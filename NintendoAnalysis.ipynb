{
 "cells": [
  {
   "cell_type": "markdown",
   "metadata": {},
   "source": [
    "# Bibliotecas"
   ]
  },
  {
   "cell_type": "code",
   "execution_count": 1,
   "metadata": {},
   "outputs": [],
   "source": [
    "import pandas as pd # Biblioteca necessária para a manipulação de dataframes\n",
    "import numpy as np\n",
    "from openpyxl import load_workbook"
   ]
  },
  {
   "cell_type": "markdown",
   "metadata": {},
   "source": [
    "# EXTRACT"
   ]
  },
  {
   "cell_type": "markdown",
   "metadata": {},
   "source": [
    "Extração das informações presentes no arquivo NintendoGames.csv"
   ]
  },
  {
   "cell_type": "code",
   "execution_count": 2,
   "metadata": {},
   "outputs": [],
   "source": [
    "df = pd.read_csv('NintendoGames.csv')"
   ]
  },
  {
   "cell_type": "markdown",
   "metadata": {},
   "source": [
    "# TRANSFORM"
   ]
  },
  {
   "cell_type": "markdown",
   "metadata": {},
   "source": [
    "Nesse passo é importante entendermos como o nosso banco de dados se comporta.\n",
    "As notas podem ser entre 0 e 100 quando feita por críticos especializados do mercado e de 0 a 10 quando feita pelo publíco em geral.\n",
    "\n",
    "Para fins de termos uma análise mais limpa e fiel vamos remover todos os jogos que não possuem uma avaliação tanto dos críticos como dos publíco, Isso é importante pois o banco de dados possui listado jogos que nem mesmo foram lançados no momento da extração dos dados."
   ]
  },
  {
   "cell_type": "code",
   "execution_count": 3,
   "metadata": {},
   "outputs": [],
   "source": [
    "df.dropna(subset = ['meta_score','user_score'], inplace = True)"
   ]
  },
  {
   "cell_type": "markdown",
   "metadata": {},
   "source": [
    "Com essa limpeza podemos começar a estabelecer os parâmetros das nossas análises:\n",
    "\n",
    "1- Um arquivo excel será gerado onde cada uma das plataformas presentes no banco de dados serão armazenadas em uma aba do arquivo excel \"Geral_Analysis.xlsx\" onde seus jogos serão organizados em ordem decrescente de nota, sendo a nota final calculada como a media entre as notas dos usuários e a nota dos críticos. A notas dos críticos será normalizada para ficar entre 0 e 10;\n",
    "\n",
    "2- Também será criado uma aba chamada \"PLATAFORM RANK\" que armazenará uma classificação em ordem decrescente entre todas as plataformas presente no banco de dados."
   ]
  },
  {
   "cell_type": "code",
   "execution_count": 4,
   "metadata": {},
   "outputs": [],
   "source": [
    "# Obtenção de todas as plataformas presentes \n",
    "\n",
    "plataforms = df['platform'].drop_duplicates().to_list()\n",
    "\n",
    "# Cálculo da nota final\n",
    "\n",
    "df['final_score'] = ((df['meta_score']/10) + df['user_score'])/2\n",
    "\n",
    "# Criação do df contendo as informações agregadas por plataforma (Aba \"Total\")\n",
    "\n",
    "df_plataforms_score = df[['platform','final_score']].groupby(by = 'platform').describe()\n",
    "df_plataforms_score = df_plataforms_score['final_score'][['count','mean']].reset_index('platform') #Organizando as colunas multi index\n",
    "df_plataforms_score.sort_values(by='mean', ascending=False, inplace = True) # Organizando da plataforma com a maior avalização para a menor\n",
    "df_plataforms_score.rename(columns = {'count':'games_count','mean':'score_mean'}, inplace = True) # Renomeando colunas\n",
    "                        "
   ]
  },
  {
   "cell_type": "markdown",
   "metadata": {},
   "source": [
    "# LOAD "
   ]
  },
  {
   "cell_type": "markdown",
   "metadata": {},
   "source": [
    "Com esses tratamentos básicos se torna possível efetuar a criação dos diferentes arquivos excel.\n",
    "\n",
    "Uma coisa interessante de se notar é que ainda antes do carregamento irá existir um tratamento de organização dos valores para a alocação dos mesmos na planilha."
   ]
  },
  {
   "cell_type": "code",
   "execution_count": 5,
   "metadata": {},
   "outputs": [
    {
     "name": "stderr",
     "output_type": "stream",
     "text": [
      "C:\\Users\\guilh\\AppData\\Local\\Temp\\ipykernel_16684\\2362188473.py:4: SettingWithCopyWarning: \n",
      "A value is trying to be set on a copy of a slice from a DataFrame\n",
      "\n",
      "See the caveats in the documentation: https://pandas.pydata.org/pandas-docs/stable/user_guide/indexing.html#returning-a-view-versus-a-copy\n",
      "  df_platform.sort_values(by='final_score', ascending=False, inplace = True) # Organizando da plataforma com a maior avalização para a menor\n"
     ]
    }
   ],
   "source": [
    "def sheets_creation(df,platform):\n",
    "\n",
    "    df_platform = df.loc[df['platform'] == platform]\n",
    "    df_platform.sort_values(by='final_score', ascending=False, inplace = True) # Organizando da plataforma com a maior avalização para a menor\n",
    "\n",
    "    with pd.ExcelWriter('Geral_Analysis.xlsx', engine='openpyxl', mode='a', if_sheet_exists= 'replace') as writer:\n",
    "    # Salve o novo dataframe em uma nova aba\n",
    "        df_platform.to_excel(writer, sheet_name=f'{platform} RANK', index=False)\n",
    "\n",
    "for platform in plataforms:\n",
    "\n",
    "    sheets_creation(df,platform)\n",
    "\n",
    "with pd.ExcelWriter('Geral_Analysis.xlsx', engine='openpyxl', mode='a', if_sheet_exists= 'replace') as writer:\n",
    "    # Salve o novo dataframe em uma nova aba\n",
    "        df_plataforms_score.to_excel(writer, sheet_name='PLATAFORM RANK', index=False)"
   ]
  }
 ],
 "metadata": {
  "kernelspec": {
   "display_name": "Python 3",
   "language": "python",
   "name": "python3"
  },
  "language_info": {
   "codemirror_mode": {
    "name": "ipython",
    "version": 3
   },
   "file_extension": ".py",
   "mimetype": "text/x-python",
   "name": "python",
   "nbconvert_exporter": "python",
   "pygments_lexer": "ipython3",
   "version": "3.11.5"
  },
  "orig_nbformat": 4
 },
 "nbformat": 4,
 "nbformat_minor": 2
}
